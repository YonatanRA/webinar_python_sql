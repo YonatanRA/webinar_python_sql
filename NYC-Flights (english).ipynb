{
 "cells": [
  {
   "cell_type": "markdown",
   "metadata": {},
   "source": [
    "# NYC-Flights\n",
    "\n",
    "## 01 - Problem (case study)\n",
    "\n",
    "### Abstract\n",
    "\n",
    "NYC-Flights\n",
    "\n",
    "**Objectives:**\n",
    "+ Connect Python with SQL Server\n",
    "+ Use SQL queries to answer the following questions\n",
    "\n",
    "\n",
    "\n",
    "**Questions:**:  \n",
    "\n",
    "1. How many flights were there from NYC airports to Seattle in 1993?\n",
    "2. How many airlines fly from NYC to Seattle?\n",
    "3. How many unique air planes have flown from NYC to Seattle?\n",
    "4. What is the average arrival delay for flights from NC to Seattle?\n",
    "5. What proportion of flights to Seattle come from each NYC airport?\n",
    "6. Which date has the largest average departure delay? \n",
    "7. Which date has the largest average arrival delay?\n",
    "8. What was the worst day to fly out of NYC in 1997 if you dislike delayed flights?\n",
    "9. Are there any seasonal patterns in departure delays for flights from NYC?\n",
    "10. On average, how do departure delays vary over the course of a year?\n",
    "11. Which flight departing NYC in the last decade flew the fastest?\n",
    "12. Which flights (i.e. carrier + flight + dest) happen every day? Where do they fly to?\n",
    "13. Which carriers have been the top and the bottom performers in 1999?"
   ]
  },
  {
   "cell_type": "markdown",
   "metadata": {},
   "source": [
    "## 02 - Getting Data"
   ]
  },
  {
   "cell_type": "code",
   "execution_count": null,
   "metadata": {},
   "outputs": [],
   "source": [
    "import pandas as pd"
   ]
  },
  {
   "cell_type": "code",
   "execution_count": null,
   "metadata": {},
   "outputs": [],
   "source": [
    "data=pd.read_csv('data-nyc/1990.csv')\n",
    "\n",
    "data.head()"
   ]
  },
  {
   "cell_type": "code",
   "execution_count": null,
   "metadata": {},
   "outputs": [],
   "source": [
    "data.info(memory_usage='deep')"
   ]
  },
  {
   "cell_type": "code",
   "execution_count": null,
   "metadata": {},
   "outputs": [],
   "source": [
    "data=data.fillna('null')"
   ]
  },
  {
   "cell_type": "code",
   "execution_count": null,
   "metadata": {},
   "outputs": [],
   "source": [
    "data.head()"
   ]
  },
  {
   "cell_type": "markdown",
   "metadata": {},
   "source": [
    "**from pandas to SQL**"
   ]
  },
  {
   "cell_type": "markdown",
   "metadata": {},
   "source": [
    "### Connection Python-SQL"
   ]
  },
  {
   "cell_type": "code",
   "execution_count": null,
   "metadata": {},
   "outputs": [],
   "source": [
    "import mysql.connector  # connection with sql"
   ]
  },
  {
   "cell_type": "code",
   "execution_count": null,
   "metadata": {},
   "outputs": [],
   "source": [
    "db_name='Flights_NYC'           # database name"
   ]
  },
  {
   "cell_type": "code",
   "execution_count": null,
   "metadata": {},
   "outputs": [],
   "source": [
    "# create connection\n",
    "create_db=mysql.connector.connect(host='localhost', user='root', passwd='password')\n",
    "\n",
    "cursor=create_db.cursor()   "
   ]
  },
  {
   "cell_type": "code",
   "execution_count": null,
   "metadata": {},
   "outputs": [],
   "source": [
    "# drop database (if exists) and create empty database\n",
    "\n",
    "cursor.execute('drop database if exists {}'.format(db_name))\n",
    "cursor.execute('create database {}'.format(db_name))"
   ]
  },
  {
   "cell_type": "code",
   "execution_count": null,
   "metadata": {},
   "outputs": [],
   "source": [
    "# check, show databases \n",
    "\n",
    "cursor.execute('show databases')\n",
    "for x in cursor:\n",
    "  print(x)"
   ]
  },
  {
   "cell_type": "markdown",
   "metadata": {},
   "source": [
    "### Load Data into SQL"
   ]
  },
  {
   "cell_type": "code",
   "execution_count": null,
   "metadata": {},
   "outputs": [],
   "source": [
    "# connection to database\n",
    "\n",
    "db=mysql.connector.connect(host='localhost', user='root', passwd='password', database=db_name)\n",
    "\n",
    "cursor=db.cursor()"
   ]
  },
  {
   "cell_type": "code",
   "execution_count": null,
   "metadata": {},
   "outputs": [],
   "source": [
    "# create table in the database\n",
    "\n",
    "import re     # regex\n",
    "\n",
    "table_name='_1990'     \n",
    "\n",
    "cursor.execute('use {};'.format(db_name))\n",
    "\n",
    "cursor.execute('drop table if exists {};'.format(table_name)) \n",
    "\n",
    "# name and dtypes in table from dataframe\n",
    "names_dtypes=[' '.join(f) for f in zip(data.columns,\n",
    "                                       [re.findall('[a-t]+',str(e))[0] if e!='object' else 'text' for e in data.dtypes.tolist()])]\n",
    "\n",
    "table='create table {}({});'.format(table_name, ', '.join(names_dtypes))\n",
    "\n",
    "table"
   ]
  },
  {
   "cell_type": "code",
   "execution_count": null,
   "metadata": {},
   "outputs": [],
   "source": [
    "cursor.execute(table) # make query"
   ]
  },
  {
   "cell_type": "code",
   "execution_count": null,
   "metadata": {},
   "outputs": [],
   "source": [
    "# check tables\n",
    "\n",
    "cursor.execute('show tables')\n",
    "for x in cursor:\n",
    "  print(x)"
   ]
  },
  {
   "cell_type": "code",
   "execution_count": null,
   "metadata": {},
   "outputs": [],
   "source": [
    "%%time\n",
    "results=list(data.T.to_dict().values())  # format change"
   ]
  },
  {
   "cell_type": "code",
   "execution_count": null,
   "metadata": {},
   "outputs": [],
   "source": [
    "%%time\n",
    "for i in range(len(results)):  # insert query\n",
    "    \n",
    "    insert_query='insert into {} ({}) values {};'\\\n",
    "                  .format(table_name, ','.join(results[i].keys()), tuple(results[i].values()))\n",
    "    cursor.execute(insert_query)\n",
    "    \n",
    "    \n",
    "db.commit()  # save database"
   ]
  },
  {
   "cell_type": "code",
   "execution_count": null,
   "metadata": {},
   "outputs": [],
   "source": [
    "insert_query  # last insertion"
   ]
  },
  {
   "cell_type": "code",
   "execution_count": null,
   "metadata": {},
   "outputs": [],
   "source": [
    "# checking\n",
    "\n",
    "cursor.execute('select * from {} limit 3'.format(table_name))\n",
    "for x in cursor:\n",
    "  print(x)"
   ]
  },
  {
   "cell_type": "code",
   "execution_count": null,
   "metadata": {},
   "outputs": [],
   "source": [
    "# all together\n",
    "\n",
    "def to_sql(year):\n",
    "    \n",
    "    table_name='_199{}'.format(year)\n",
    "    data=pd.read_csv('data-nyc/199{}.csv'.format(year)).fillna('null')\n",
    "         \n",
    "    cursor.execute('drop table if exists {};'.format(table_name)) \n",
    "    names_dtypes=[' '.join(f) for f in zip(data.columns,\n",
    "                                           [re.findall('[a-t]+',str(e))[0] if e!='object' else 'text' for e in data.dtypes.tolist()])]\n",
    "\n",
    "    table='create table {}({});'.format(table_name, ', '.join(names_dtypes))\n",
    "    cursor.execute(table)\n",
    "\n",
    "    \n",
    "    results=list(data.T.to_dict().values())\n",
    "    \n",
    "    for i in range(len(results)):\n",
    "\n",
    "        insert_query='insert into {} ({}) values {};'\\\n",
    "                      .format(table_name, ','.join(results[i].keys()), tuple(results[i].values()))\n",
    "        cursor.execute(insert_query)\n",
    "\n",
    "\n",
    "    db.commit()"
   ]
  },
  {
   "cell_type": "code",
   "execution_count": null,
   "metadata": {},
   "outputs": [],
   "source": [
    "%%time\n",
    "from tqdm import tqdm\n",
    "\n",
    "for i in tqdm(range(10), desc='Data to SQL-->'):\n",
    "    to_sql(i)"
   ]
  },
  {
   "cell_type": "code",
   "execution_count": null,
   "metadata": {},
   "outputs": [],
   "source": [
    "# check tables\n",
    "\n",
    "cursor.execute('show tables')\n",
    "for x in cursor:\n",
    "  print(x)"
   ]
  },
  {
   "cell_type": "markdown",
   "metadata": {},
   "source": [
    "### Data from SQL"
   ]
  },
  {
   "cell_type": "code",
   "execution_count": null,
   "metadata": {},
   "outputs": [],
   "source": [
    "def from_sql(cursor, query):\n",
    "    print ('Query:\\n{}\\n'.format(query))\n",
    "    \n",
    "    cursor.execute(query)\n",
    "    data=cursor.fetchall()\n",
    "\n",
    "    df=pd.DataFrame(data, columns=cursor.column_names)\n",
    "\n",
    "    print ('Data readed from MySQL.')\n",
    "\n",
    "    return df"
   ]
  },
  {
   "cell_type": "code",
   "execution_count": null,
   "metadata": {},
   "outputs": [],
   "source": [
    "# reboot connection to database\n",
    "\n",
    "db_name='Flights_NYC'\n",
    "\n",
    "db=mysql.connector.connect(host='localhost', user='root', passwd='password', database=db_name)\n",
    "\n",
    "cursor=db.cursor()"
   ]
  },
  {
   "cell_type": "markdown",
   "metadata": {},
   "source": [
    "# Queries"
   ]
  },
  {
   "cell_type": "markdown",
   "metadata": {},
   "source": [
    "### One Table"
   ]
  },
  {
   "cell_type": "code",
   "execution_count": null,
   "metadata": {},
   "outputs": [],
   "source": [
    "%%time\n",
    "\n",
    "query='select * from _1990'\n",
    "\n",
    "from_sql(cursor, query)"
   ]
  },
  {
   "cell_type": "code",
   "execution_count": null,
   "metadata": {},
   "outputs": [],
   "source": [
    "%%time\n",
    "\n",
    "query='''select * \n",
    "          from \n",
    "          information_schema.columns \n",
    "          where table_name='_1999';'''\n",
    "\n",
    "\n",
    "from_sql(cursor, query)"
   ]
  },
  {
   "cell_type": "markdown",
   "metadata": {},
   "source": [
    "### All Data"
   ]
  },
  {
   "cell_type": "code",
   "execution_count": null,
   "metadata": {},
   "outputs": [],
   "source": [
    "%%time\n",
    "\n",
    "query='''select * from\n",
    "         information_schema.tables\n",
    "            where table_schema='Flights_NYC';'''\n",
    "\n",
    "\n",
    "from_sql(cursor, query)"
   ]
  },
  {
   "cell_type": "code",
   "execution_count": null,
   "metadata": {},
   "outputs": [],
   "source": [
    "%%time\n",
    "\n",
    "query='''select * from _1990\n",
    "         union all\n",
    "         select * from _1992;'''\n",
    "\n",
    "\n",
    "from_sql(cursor, query)"
   ]
  },
  {
   "cell_type": "code",
   "execution_count": null,
   "metadata": {},
   "outputs": [],
   "source": [
    "%%time\n",
    "\n",
    "query='select * from _1990 '+\\\n",
    "      ' '.join(['union all select * from _199{}'.format(i+1) for i in range(3)])+';'\n",
    "\n",
    "\n",
    "from_sql(cursor, query)"
   ]
  },
  {
   "cell_type": "markdown",
   "metadata": {},
   "source": [
    "### Cleaning"
   ]
  },
  {
   "cell_type": "code",
   "execution_count": null,
   "metadata": {},
   "outputs": [],
   "source": [
    "%%time\n",
    "\n",
    "query='''\n",
    "        select * from\n",
    "        _1990;\n",
    "'''\n",
    "\n",
    "\n",
    "from_sql(cursor, query).shape"
   ]
  },
  {
   "cell_type": "code",
   "execution_count": null,
   "metadata": {},
   "outputs": [],
   "source": [
    "%%time\n",
    "\n",
    "query='''\n",
    "        select * from\n",
    "        _1990\n",
    "        where DepTime is not null and\n",
    "              ArrTime is not null;\n",
    "\n",
    "'''\n",
    "\n",
    "\n",
    "from_sql(cursor, query)"
   ]
  },
  {
   "cell_type": "code",
   "execution_count": null,
   "metadata": {},
   "outputs": [],
   "source": [
    "%%time\n",
    "\n",
    "query='''\n",
    "        select * from\n",
    "        _1990\n",
    "        where (DepTime!='null') and \n",
    "              (ArrTime!='null') ;\n",
    "\n",
    "'''\n",
    "\n",
    "\n",
    "from_sql(cursor, query)"
   ]
  },
  {
   "cell_type": "code",
   "execution_count": null,
   "metadata": {},
   "outputs": [],
   "source": [
    "%%time\n",
    "\n",
    "all_time_query='select * from _1990 '+\\\n",
    "               ' '.join(['union all select * from _199{}'.format(i+1) for i in range(9)])\n",
    "\n",
    "\n",
    "clean_query='''\n",
    "            select * from\n",
    "            ({}) t\n",
    "            where (t.DepTime!='null') and \n",
    "                  (t.ArrTime!='null') and\n",
    "                  (t.TailNum!='null')\n",
    "\n",
    "    '''.format(all_time_query)\n",
    "\n",
    "\n",
    "\n",
    "from_sql(cursor, clean_query)"
   ]
  },
  {
   "cell_type": "markdown",
   "metadata": {},
   "source": [
    "## 03 - Questions\n",
    "\n",
    "### 1. How many flights were there from NYC airports to Seattle in 1993?"
   ]
  },
  {
   "cell_type": "code",
   "execution_count": null,
   "metadata": {},
   "outputs": [],
   "source": [
    "%%time\n",
    "\n",
    "query='''\n",
    "        select count(*) as Flights from\n",
    "        _1993\n",
    "        where (Dest='SEA');\n",
    "\n",
    "'''\n",
    "\n",
    "\n",
    "from_sql(cursor, query)"
   ]
  },
  {
   "cell_type": "markdown",
   "metadata": {},
   "source": [
    "### 2. How many airlines fly from NYC to Seattle?"
   ]
  },
  {
   "cell_type": "code",
   "execution_count": null,
   "metadata": {},
   "outputs": [],
   "source": [
    "%%time\n",
    "\n",
    "query='''\n",
    "        select UniqueCarrier as Airline, count(UniqueCarrier) as Flights\n",
    "        from _1999\n",
    "        group by UniqueCarrier;\n",
    "\n",
    "'''\n",
    "\n",
    "from_sql(cursor, query)"
   ]
  },
  {
   "cell_type": "markdown",
   "metadata": {},
   "source": [
    "### 3. How many unique air planes have flown from NYC to Seattle?"
   ]
  },
  {
   "cell_type": "code",
   "execution_count": null,
   "metadata": {},
   "outputs": [],
   "source": [
    "%%time\n",
    "\n",
    "query='''\n",
    "        select c.TailNum , count(c.TailNum) as Flights\n",
    "        from\n",
    "        ({}) c \n",
    "        group by c.TailNum;\n",
    "        \n",
    "'''.format(clean_query)\n",
    "\n",
    "\n",
    "from_sql(cursor, query)"
   ]
  },
  {
   "cell_type": "markdown",
   "metadata": {},
   "source": [
    "### 4. What is the average arrival delay for flights from NYC to Seattle?"
   ]
  },
  {
   "cell_type": "code",
   "execution_count": null,
   "metadata": {},
   "outputs": [],
   "source": [
    "%%time\n",
    "\n",
    "query='''\n",
    "        select avg(a.ArrDelay) as AvgDelay\n",
    "        from\n",
    "        ({}) a\n",
    "        where(a.Dest='SEA');\n",
    "\n",
    "'''.format(all_time_query)\n",
    "\n",
    "\n",
    "from_sql(cursor, query)"
   ]
  },
  {
   "cell_type": "markdown",
   "metadata": {},
   "source": [
    "### 5. What proportion of flights to Seattle come from each NYC airport?"
   ]
  },
  {
   "cell_type": "code",
   "execution_count": null,
   "metadata": {},
   "outputs": [],
   "source": [
    "%%time\n",
    "\n",
    "query='''\n",
    "        select Origin , \n",
    "        (count(Origin)*100/(select count(*) from _1999 where (Dest='SEA'))) as PropFlights\n",
    "        from \n",
    "        _1999\n",
    "        where (Dest='SEA')\n",
    "        group by Origin;\n",
    "\n",
    "'''\n",
    "\n",
    "\n",
    "from_sql(cursor, query)"
   ]
  },
  {
   "cell_type": "code",
   "execution_count": null,
   "metadata": {},
   "outputs": [],
   "source": [
    "%%time\n",
    "\n",
    "query='''\n",
    "        select a.Origin , \n",
    "        (count(a.Origin)*100/(select count(*) from ({}) as p where (Dest='SEA'))) as PropFlights\n",
    "        from \n",
    "        ({}) a\n",
    "        where (a.Dest='SEA')\n",
    "        group by a.Origin;\n",
    "\n",
    "'''.format(all_time_query, all_time_query)\n",
    "\n",
    "\n",
    "from_sql(cursor, query)"
   ]
  },
  {
   "cell_type": "markdown",
   "metadata": {},
   "source": [
    "### 6. Which date has the largest average departure delay? "
   ]
  },
  {
   "cell_type": "code",
   "execution_count": null,
   "metadata": {},
   "outputs": [],
   "source": [
    "%%time\n",
    "\n",
    "query='''\n",
    "        select a.DayofMonth as Day, a.Month, a.Year, avg(a.DepDelay) as DepDelay\n",
    "        from ({}) a\n",
    "        group by a.DayofMonth, a.Month, a.Year\n",
    "        order by DepDelay desc \n",
    "        limit 10;\n",
    "\n",
    "'''.format(clean_query)\n",
    "\n",
    "\n",
    "from_sql(cursor, query)"
   ]
  },
  {
   "cell_type": "markdown",
   "metadata": {},
   "source": [
    "### 7. Which date has the largest average arrival delay?"
   ]
  },
  {
   "cell_type": "code",
   "execution_count": null,
   "metadata": {},
   "outputs": [],
   "source": [
    "%%time\n",
    "\n",
    "query='''\n",
    "        select a.DayofMonth as Day, a.Month, a.Year, avg(a.ArrDelay) as ArrDelay\n",
    "        from ({}) a\n",
    "        group by a.DayofMonth, a.Month, a.Year\n",
    "        order by ArrDelay desc \n",
    "        limit 10;\n",
    "\n",
    "'''.format(clean_query)\n",
    "\n",
    "\n",
    "from_sql(cursor, query)"
   ]
  },
  {
   "cell_type": "markdown",
   "metadata": {},
   "source": [
    "### 8. What was the worst day to fly out of NYC in 1997 if you dislike delayed flights?"
   ]
  },
  {
   "cell_type": "code",
   "execution_count": null,
   "metadata": {},
   "outputs": [],
   "source": [
    "%%time\n",
    "\n",
    "query='''\n",
    "        select DayofMonth as Day, Month, Year, avg(DepDelay) as DepDelay\n",
    "        from _1997\n",
    "        group by DayofMonth, Month, Year\n",
    "        order by DepDelay desc \n",
    "        limit 10;\n",
    "\n",
    "'''\n",
    "\n",
    "\n",
    "from_sql(cursor, query)"
   ]
  },
  {
   "cell_type": "markdown",
   "metadata": {},
   "source": [
    "### 9. Are there any seasonal patterns in departure delays for flights from NYC?"
   ]
  },
  {
   "cell_type": "code",
   "execution_count": null,
   "metadata": {},
   "outputs": [],
   "source": [
    "%%time\n",
    "\n",
    "query='''\n",
    "        select Month, Year, avg(DepDelay) as DepDelay\n",
    "        from _1999\n",
    "        group by Month, Year;\n",
    "\n",
    "'''\n",
    "\n",
    "\n",
    "from_sql(cursor, query)"
   ]
  },
  {
   "cell_type": "code",
   "execution_count": null,
   "metadata": {},
   "outputs": [],
   "source": [
    "%%time\n",
    "%matplotlib inline\n",
    "\n",
    "query='''\n",
    "        select Month, Year, avg(DepDelay) as DepDelay\n",
    "        from _1999\n",
    "        group by Month, Year;\n",
    "\n",
    "'''\n",
    "\n",
    "\n",
    "from_sql(cursor, query).plot(x='Month', y='DepDelay');"
   ]
  },
  {
   "cell_type": "code",
   "execution_count": null,
   "metadata": {},
   "outputs": [],
   "source": [
    "%%time\n",
    "\n",
    "query='''\n",
    "        select a.Month, a.Year, avg(a.DepDelay) as DepDelay\n",
    "        from\n",
    "        ({}) a\n",
    "        group by a.Month, a.Year;\n",
    "\n",
    "'''.format(all_time_query)\n",
    "\n",
    "\n",
    "from_sql(cursor, query)"
   ]
  },
  {
   "cell_type": "markdown",
   "metadata": {},
   "source": [
    "### 10. On average, how do departure delays vary over the course of a year?"
   ]
  },
  {
   "cell_type": "code",
   "execution_count": null,
   "metadata": {},
   "outputs": [],
   "source": [
    "%%time\n",
    "\n",
    "query='''\n",
    "        select Month, avg(DepTime) as AvgDepDelay\n",
    "        from _1999\n",
    "        group by Month;\n",
    "\n",
    "'''\n",
    "\n",
    "from_sql(cursor, query)"
   ]
  },
  {
   "cell_type": "markdown",
   "metadata": {},
   "source": [
    "### 11. Which flight departing NYC in the last decade flew the fastest?"
   ]
  },
  {
   "cell_type": "code",
   "execution_count": null,
   "metadata": {},
   "outputs": [],
   "source": [
    "%%time\n",
    "\n",
    "query='''\n",
    "        select a.DayofMonth, a.Month, a.Year, a.Distance/a.AirTime as Speed, a.UniqueCarrier as Airline, a.TailNum\n",
    "        from\n",
    "        ({}) a\n",
    "        where (a.Distance!='null') and (a.AirTime!='null')\n",
    "        order by Speed desc\n",
    "        limit 5;\n",
    "\n",
    "'''.format(all_time_query)\n",
    "\n",
    "\n",
    "from_sql(cursor, query)"
   ]
  },
  {
   "cell_type": "markdown",
   "metadata": {},
   "source": [
    "### 12. Which flights (i.e. carrier + flight + dest) happen every day? Where do they fly to?"
   ]
  },
  {
   "cell_type": "code",
   "execution_count": null,
   "metadata": {},
   "outputs": [],
   "source": [
    "%%time\n",
    "\n",
    "query='''\n",
    "        select UniqueCarrier as Airline, FlightNum, Dest, count(Dest) as Flights\n",
    "        from\n",
    "        _1999\n",
    "        group by UniqueCarrier, FlightNum, Dest\n",
    "        order by Flights desc\n",
    "        limit 10;\n",
    "\n",
    "'''\n",
    "\n",
    "\n",
    "from_sql(cursor, query)"
   ]
  },
  {
   "cell_type": "markdown",
   "metadata": {},
   "source": [
    "### 13. Which carriers have been the top and the bottom performers in 1999?"
   ]
  },
  {
   "cell_type": "code",
   "execution_count": null,
   "metadata": {},
   "outputs": [],
   "source": [
    "%%time\n",
    "\n",
    "query='''\n",
    "        select UniqueCarrier as Airline, avg(DepTime) as AvgDepDelay\n",
    "        from\n",
    "        _1999\n",
    "        group by Airline\n",
    "        order by AvgDepDelay asc;\n",
    "\n",
    "'''\n",
    "\n",
    "\n",
    "from_sql(cursor, query)"
   ]
  },
  {
   "cell_type": "code",
   "execution_count": null,
   "metadata": {},
   "outputs": [],
   "source": [
    "%%time\n",
    "\n",
    "query='''\n",
    "        select UniqueCarrier as Airline, avg(ArrTime) as AvgArrDelay\n",
    "        from\n",
    "        _1999\n",
    "        group by Airline\n",
    "        order by AvgArrDelay asc;\n",
    "\n",
    "'''\n",
    "\n",
    "\n",
    "from_sql(cursor, query)"
   ]
  },
  {
   "cell_type": "code",
   "execution_count": null,
   "metadata": {},
   "outputs": [],
   "source": [
    "%%time\n",
    "\n",
    "query='''\n",
    "        select a.UniqueCarrier as Airline, avg(a.DepTime) as AvgDepDelay\n",
    "        from\n",
    "        ({}) a\n",
    "        group by Airline\n",
    "        order by AvgDepDelay asc;\n",
    "\n",
    "'''.format(all_time_query)\n",
    "\n",
    "\n",
    "from_sql(cursor, query)"
   ]
  },
  {
   "cell_type": "code",
   "execution_count": null,
   "metadata": {},
   "outputs": [],
   "source": []
  }
 ],
 "metadata": {
  "kernelspec": {
   "display_name": "Python 3",
   "language": "python",
   "name": "python3"
  },
  "language_info": {
   "codemirror_mode": {
    "name": "ipython",
    "version": 3
   },
   "file_extension": ".py",
   "mimetype": "text/x-python",
   "name": "python",
   "nbconvert_exporter": "python",
   "pygments_lexer": "ipython3",
   "version": "3.7.6"
  }
 },
 "nbformat": 4,
 "nbformat_minor": 2
}
