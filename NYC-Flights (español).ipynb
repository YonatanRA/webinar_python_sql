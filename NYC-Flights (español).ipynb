{
 "cells": [
  {
   "cell_type": "markdown",
   "metadata": {},
   "source": [
    "# NYC-Flights\n",
    "\n",
    "## 01 - Problema (caso de estudio)\n",
    "\n",
    "### Resumen\n",
    "\n",
    "NYC-Flights (vuelos en la ciudad de Nueva York)\n",
    "\n",
    "**Objectivos:**\n",
    "+ Conectar Python con el servidor de SQL\n",
    "+ Usar queries SQL para responder las siguientes preguntas \n",
    "\n",
    "\n",
    "\n",
    "**Preguntas:**:  \n",
    "\n",
    "1. ¿Cuantos vuelos hubo desde NYC a Seattle en 1993?\n",
    "2. ¿Cuantas aerolineas vuelan desde NYC a Seattle?\n",
    "3. ¿Cuantos aviones diferentes haan volado desde NYC a Seattle?\n",
    "4. ¿Cual es la media del retraso de llegada para los vuelos entre NYC y Seattle?\n",
    "5. ¿Cual es la proporcion de vuelos a Seattle para cada aeropuerto en NYC?\n",
    "6. ¿Cual fue la fecha con el mayor retraso de salida?\n",
    "7. ¿Cual fue la fecha con el mayor retraso de llegada?\n",
    "8. ¿Cual fue el peor dia para volar desde NYC en 1997 si no te gustan los retrasos?\n",
    "9. ¿Hay patrones estacionales en los retrasos de salida de los vuelos desde NYC?\n",
    "10. De media, ¿como varian los retrasos de salida a lo largo del año?\n",
    "11. ¿Cual fue el vuelo desde NYC mas rapido en la ultima decada?\n",
    "12. ¿Cuales son los vuelos diarios?¿A donde vuelan?  (vuelo = aerolinea(carrier) + vuelo(flight) + destino(dest)) \n",
    "13. ¿Que aerolinea es la que mejor funciono y cual peor en 1999? (pensando en el delay)"
   ]
  },
  {
   "cell_type": "markdown",
   "metadata": {},
   "source": [
    "## 02 - Obteniendo datos"
   ]
  },
  {
   "cell_type": "code",
   "execution_count": null,
   "metadata": {},
   "outputs": [],
   "source": [
    "import pandas as pd"
   ]
  },
  {
   "cell_type": "code",
   "execution_count": null,
   "metadata": {},
   "outputs": [],
   "source": [
    "data=pd.read_csv('data-nyc/1990.csv')\n",
    "\n",
    "data.head()"
   ]
  },
  {
   "cell_type": "code",
   "execution_count": null,
   "metadata": {},
   "outputs": [],
   "source": [
    "data.info(memory_usage='deep')"
   ]
  },
  {
   "cell_type": "code",
   "execution_count": null,
   "metadata": {},
   "outputs": [],
   "source": [
    "data=data.fillna('null')"
   ]
  },
  {
   "cell_type": "code",
   "execution_count": null,
   "metadata": {},
   "outputs": [],
   "source": [
    "data.head()"
   ]
  },
  {
   "cell_type": "markdown",
   "metadata": {},
   "source": [
    "**de pandas a SQL**"
   ]
  },
  {
   "cell_type": "markdown",
   "metadata": {},
   "source": [
    "### Conexion Python-SQL"
   ]
  },
  {
   "cell_type": "code",
   "execution_count": null,
   "metadata": {},
   "outputs": [],
   "source": [
    "import mysql.connector  # conexion con sql"
   ]
  },
  {
   "cell_type": "code",
   "execution_count": null,
   "metadata": {},
   "outputs": [],
   "source": [
    "db_name='Flights_NYC'           # nombre base de datos"
   ]
  },
  {
   "cell_type": "code",
   "execution_count": null,
   "metadata": {},
   "outputs": [],
   "source": [
    "# crear conexion\n",
    "create_db=mysql.connector.connect(host='localhost', user='root', passwd='password')\n",
    "\n",
    "cursor=create_db.cursor()   "
   ]
  },
  {
   "cell_type": "code",
   "execution_count": null,
   "metadata": {},
   "outputs": [],
   "source": [
    "# eliminar base de datos (si existe) y crear un base de datos vacia\n",
    "\n",
    "cursor.execute('drop database if exists {}'.format(db_name))\n",
    "cursor.execute('create database {}'.format(db_name))"
   ]
  },
  {
   "cell_type": "code",
   "execution_count": null,
   "metadata": {},
   "outputs": [],
   "source": [
    "# comprueba, muestra las bases de datos \n",
    "\n",
    "cursor.execute('show databases')\n",
    "for x in cursor:\n",
    "  print(x)"
   ]
  },
  {
   "cell_type": "markdown",
   "metadata": {},
   "source": [
    "### Cargar datos en SQL"
   ]
  },
  {
   "cell_type": "code",
   "execution_count": null,
   "metadata": {},
   "outputs": [],
   "source": [
    "# conexion a la base de datos\n",
    "\n",
    "db=mysql.connector.connect(host='localhost', user='root', passwd='password', database=db_name)\n",
    "\n",
    "cursor=db.cursor()"
   ]
  },
  {
   "cell_type": "code",
   "execution_count": null,
   "metadata": {},
   "outputs": [],
   "source": [
    "# crear tabla en la base de datos\n",
    "\n",
    "import re     # regex\n",
    "\n",
    "table_name='_1990'     \n",
    "\n",
    "cursor.execute('use {};'.format(db_name))\n",
    "\n",
    "cursor.execute('drop table if exists {};'.format(table_name)) \n",
    "\n",
    "# nombres de columna y tipo de dato de la tabla desde el dataframe\n",
    "names_dtypes=[' '.join(f) for f in zip(data.columns,\n",
    "                                       [re.findall('[a-t]+',str(e))[0] if e!='object' else 'text' for e in data.dtypes.tolist()])]\n",
    "\n",
    "table='create table {}({});'.format(table_name, ', '.join(names_dtypes))\n",
    "\n",
    "table"
   ]
  },
  {
   "cell_type": "code",
   "execution_count": null,
   "metadata": {},
   "outputs": [],
   "source": [
    "cursor.execute(table) # ejecuta la query"
   ]
  },
  {
   "cell_type": "code",
   "execution_count": null,
   "metadata": {},
   "outputs": [],
   "source": [
    "# comprueba las tablas\n",
    "\n",
    "cursor.execute('show tables')\n",
    "for x in cursor:\n",
    "  print(x)"
   ]
  },
  {
   "cell_type": "code",
   "execution_count": null,
   "metadata": {},
   "outputs": [],
   "source": [
    "%%time\n",
    "results=list(data.T.to_dict().values())  # cambio de formato"
   ]
  },
  {
   "cell_type": "code",
   "execution_count": null,
   "metadata": {},
   "outputs": [],
   "source": [
    "%%time\n",
    "for i in range(len(results)):  # insert query\n",
    "    \n",
    "    insert_query='insert into {} ({}) values {};'\\\n",
    "                  .format(table_name, ','.join(results[i].keys()), tuple(results[i].values()))\n",
    "    cursor.execute(insert_query)\n",
    "    \n",
    "    \n",
    "db.commit()  # guardar base de datos"
   ]
  },
  {
   "cell_type": "code",
   "execution_count": null,
   "metadata": {},
   "outputs": [],
   "source": [
    "insert_query  # ultima insercion"
   ]
  },
  {
   "cell_type": "code",
   "execution_count": null,
   "metadata": {},
   "outputs": [],
   "source": [
    "# comprobacion\n",
    "\n",
    "cursor.execute('select * from {} limit 3'.format(table_name))\n",
    "for x in cursor:\n",
    "  print(x)"
   ]
  },
  {
   "cell_type": "code",
   "execution_count": null,
   "metadata": {},
   "outputs": [],
   "source": [
    "# todo junto\n",
    "\n",
    "def to_sql(year):\n",
    "    \n",
    "    table_name='_199{}'.format(year)\n",
    "    data=pd.read_csv('data-nyc/199{}.csv'.format(year)).fillna('null')\n",
    "         \n",
    "    cursor.execute('drop table if exists {};'.format(table_name)) \n",
    "    names_dtypes=[' '.join(f) for f in zip(data.columns,\n",
    "                                           [re.findall('[a-t]+',str(e))[0] if e!='object' else 'text' for e in data.dtypes.tolist()])]\n",
    "\n",
    "    table='create table {}({});'.format(table_name, ', '.join(names_dtypes))\n",
    "    cursor.execute(table)\n",
    "\n",
    "    \n",
    "    results=list(data.T.to_dict().values())\n",
    "    \n",
    "    for i in range(len(results)):\n",
    "\n",
    "        insert_query='insert into {} ({}) values {};'\\\n",
    "                      .format(table_name, ','.join(results[i].keys()), tuple(results[i].values()))\n",
    "        cursor.execute(insert_query)\n",
    "\n",
    "\n",
    "    db.commit()"
   ]
  },
  {
   "cell_type": "code",
   "execution_count": null,
   "metadata": {},
   "outputs": [],
   "source": [
    "%%time\n",
    "from tqdm import tqdm\n",
    "\n",
    "for i in tqdm(range(10), desc='Data to SQL-->'):\n",
    "    to_sql(i)"
   ]
  },
  {
   "cell_type": "code",
   "execution_count": null,
   "metadata": {},
   "outputs": [],
   "source": [
    "# comprobacion tablas\n",
    "\n",
    "cursor.execute('show tables')\n",
    "for x in cursor:\n",
    "  print(x)"
   ]
  },
  {
   "cell_type": "markdown",
   "metadata": {},
   "source": [
    "### Datos desde SQL"
   ]
  },
  {
   "cell_type": "code",
   "execution_count": null,
   "metadata": {},
   "outputs": [],
   "source": [
    "def from_sql(cursor, query):\n",
    "    print ('Query:\\n{}\\n'.format(query))\n",
    "    \n",
    "    cursor.execute(query)\n",
    "    data=cursor.fetchall()\n",
    "\n",
    "    df=pd.DataFrame(data, columns=cursor.column_names)\n",
    "\n",
    "    print ('Datos leidos desde MySQL.')\n",
    "\n",
    "    return df"
   ]
  },
  {
   "cell_type": "code",
   "execution_count": null,
   "metadata": {},
   "outputs": [],
   "source": [
    "# reinicia conexion con base de datos\n",
    "\n",
    "db_name='Flights_NYC'\n",
    "\n",
    "db=mysql.connector.connect(host='localhost', user='root', passwd='password', database=db_name)\n",
    "\n",
    "cursor=db.cursor()"
   ]
  },
  {
   "cell_type": "markdown",
   "metadata": {},
   "source": [
    "# Queries"
   ]
  },
  {
   "cell_type": "markdown",
   "metadata": {},
   "source": [
    "### Una Tabla"
   ]
  },
  {
   "cell_type": "code",
   "execution_count": null,
   "metadata": {},
   "outputs": [],
   "source": [
    "%%time\n",
    "\n",
    "query='select * from _1990'\n",
    "\n",
    "from_sql(cursor, query)"
   ]
  },
  {
   "cell_type": "code",
   "execution_count": null,
   "metadata": {},
   "outputs": [],
   "source": [
    "%%time\n",
    "\n",
    "query='''select * \n",
    "          from \n",
    "          information_schema.columns \n",
    "          where table_name='_1999';'''\n",
    "\n",
    "\n",
    "from_sql(cursor, query)"
   ]
  },
  {
   "cell_type": "markdown",
   "metadata": {},
   "source": [
    "### Todos los datos"
   ]
  },
  {
   "cell_type": "code",
   "execution_count": null,
   "metadata": {},
   "outputs": [],
   "source": [
    "%%time\n",
    "\n",
    "query='''select * from\n",
    "         information_schema.tables\n",
    "            where table_schema='Flights_NYC';'''\n",
    "\n",
    "\n",
    "from_sql(cursor, query)"
   ]
  },
  {
   "cell_type": "code",
   "execution_count": null,
   "metadata": {},
   "outputs": [],
   "source": [
    "%%time\n",
    "\n",
    "query='''select * from _1990\n",
    "         union all\n",
    "         select * from _1992;'''\n",
    "\n",
    "\n",
    "from_sql(cursor, query)"
   ]
  },
  {
   "cell_type": "code",
   "execution_count": null,
   "metadata": {},
   "outputs": [],
   "source": [
    "%%time\n",
    "\n",
    "query='select * from _1990 '+\\\n",
    "      ' '.join(['union all select * from _199{}'.format(i+1) for i in range(3)])+';'\n",
    "\n",
    "\n",
    "from_sql(cursor, query)"
   ]
  },
  {
   "cell_type": "markdown",
   "metadata": {},
   "source": [
    "### Limpieza de datos"
   ]
  },
  {
   "cell_type": "code",
   "execution_count": null,
   "metadata": {},
   "outputs": [],
   "source": [
    "%%time\n",
    "\n",
    "query='''\n",
    "        select * from\n",
    "        _1990;\n",
    "'''\n",
    "\n",
    "\n",
    "from_sql(cursor, query).shape"
   ]
  },
  {
   "cell_type": "code",
   "execution_count": null,
   "metadata": {},
   "outputs": [],
   "source": [
    "%%time\n",
    "\n",
    "query='''\n",
    "        select * from\n",
    "        _1990\n",
    "        where DepTime is not null and\n",
    "              ArrTime is not null;\n",
    "\n",
    "'''\n",
    "\n",
    "\n",
    "from_sql(cursor, query)"
   ]
  },
  {
   "cell_type": "code",
   "execution_count": null,
   "metadata": {},
   "outputs": [],
   "source": [
    "%%time\n",
    "\n",
    "query='''\n",
    "        select * from\n",
    "        _1990\n",
    "        where (DepTime!='null') and \n",
    "              (ArrTime!='null') ;\n",
    "\n",
    "'''\n",
    "\n",
    "\n",
    "from_sql(cursor, query)"
   ]
  },
  {
   "cell_type": "code",
   "execution_count": null,
   "metadata": {},
   "outputs": [],
   "source": [
    "%%time\n",
    "\n",
    "all_time_query='select * from _1990 '+\\\n",
    "               ' '.join(['union all select * from _199{}'.format(i+1) for i in range(9)])\n",
    "\n",
    "\n",
    "clean_query='''\n",
    "            select * from\n",
    "            ({}) t\n",
    "            where (t.DepTime!='null') and \n",
    "                  (t.ArrTime!='null') and\n",
    "                  (t.TailNum!='null')\n",
    "\n",
    "    '''.format(all_time_query)\n",
    "\n",
    "\n",
    "\n",
    "from_sql(cursor, clean_query)"
   ]
  },
  {
   "cell_type": "markdown",
   "metadata": {},
   "source": [
    "## 03 - Preguntas\n",
    "\n",
    "### 1. ¿Cuantos vuelos hubo desde NYC a Seattle en 1993?\n"
   ]
  },
  {
   "cell_type": "code",
   "execution_count": null,
   "metadata": {},
   "outputs": [],
   "source": [
    "%%time\n",
    "\n",
    "query='''\n",
    "        select count(*) as Flights from\n",
    "        _1993\n",
    "        where (Dest='SEA');\n",
    "\n",
    "'''\n",
    "\n",
    "\n",
    "from_sql(cursor, query)"
   ]
  },
  {
   "cell_type": "markdown",
   "metadata": {},
   "source": [
    "### 2. ¿Cuantas aerolineas vuelan desde NYC a Seattle?"
   ]
  },
  {
   "cell_type": "code",
   "execution_count": null,
   "metadata": {},
   "outputs": [],
   "source": [
    "%%time\n",
    "\n",
    "query='''\n",
    "        select UniqueCarrier as Airline, count(UniqueCarrier) as Flights\n",
    "        from _1999\n",
    "        group by UniqueCarrier;\n",
    "\n",
    "'''\n",
    "\n",
    "from_sql(cursor, query)"
   ]
  },
  {
   "cell_type": "markdown",
   "metadata": {},
   "source": [
    "### 3. ¿Cuantos aviones diferentes haan volado desde NYC a Seattle?"
   ]
  },
  {
   "cell_type": "code",
   "execution_count": null,
   "metadata": {},
   "outputs": [],
   "source": [
    "%%time\n",
    "\n",
    "query='''\n",
    "        select c.TailNum , count(c.TailNum) as Flights\n",
    "        from\n",
    "        ({}) c \n",
    "        group by c.TailNum;\n",
    "        \n",
    "'''.format(clean_query)\n",
    "\n",
    "\n",
    "from_sql(cursor, query)"
   ]
  },
  {
   "cell_type": "markdown",
   "metadata": {},
   "source": [
    "### 4. ¿Cual es la media del retraso de llegada para los vuelos entre NYC y Seattle?"
   ]
  },
  {
   "cell_type": "code",
   "execution_count": null,
   "metadata": {},
   "outputs": [],
   "source": [
    "%%time\n",
    "\n",
    "query='''\n",
    "        select avg(a.ArrDelay) as AvgDelay\n",
    "        from\n",
    "        ({}) a\n",
    "        where(a.Dest='SEA');\n",
    "\n",
    "'''.format(all_time_query)\n",
    "\n",
    "\n",
    "from_sql(cursor, query)"
   ]
  },
  {
   "cell_type": "markdown",
   "metadata": {},
   "source": [
    "### 5. ¿Cual es la proporcion de vuelos a Seattle para cada aeropuerto en NYC?"
   ]
  },
  {
   "cell_type": "code",
   "execution_count": null,
   "metadata": {},
   "outputs": [],
   "source": [
    "%%time\n",
    "\n",
    "query='''\n",
    "        select Origin , \n",
    "        (count(Origin)*100/(select count(*) from _1999 where (Dest='SEA'))) as PropFlights\n",
    "        from \n",
    "        _1999\n",
    "        where (Dest='SEA')\n",
    "        group by Origin;\n",
    "\n",
    "'''\n",
    "\n",
    "\n",
    "from_sql(cursor, query)"
   ]
  },
  {
   "cell_type": "code",
   "execution_count": null,
   "metadata": {},
   "outputs": [],
   "source": [
    "%%time\n",
    "\n",
    "query='''\n",
    "        select a.Origin , \n",
    "        (count(a.Origin)*100/(select count(*) from ({}) as p where (Dest='SEA'))) as PropFlights\n",
    "        from \n",
    "        ({}) a\n",
    "        where (a.Dest='SEA')\n",
    "        group by a.Origin;\n",
    "\n",
    "'''.format(all_time_query, all_time_query)\n",
    "\n",
    "\n",
    "from_sql(cursor, query)"
   ]
  },
  {
   "cell_type": "markdown",
   "metadata": {},
   "source": [
    "### 6. ¿Cual fue la fecha con el mayor retraso de salida?"
   ]
  },
  {
   "cell_type": "code",
   "execution_count": 1,
   "metadata": {},
   "outputs": [
    {
     "ename": "NameError",
     "evalue": "name 'clean_query' is not defined",
     "output_type": "error",
     "traceback": [
      "\u001b[0;31m---------------------------------------------------------------------------\u001b[0m",
      "\u001b[0;31mNameError\u001b[0m                                 Traceback (most recent call last)",
      "\u001b[0;32m<timed exec>\u001b[0m in \u001b[0;36m<module>\u001b[0;34m\u001b[0m\n",
      "\u001b[0;31mNameError\u001b[0m: name 'clean_query' is not defined"
     ]
    }
   ],
   "source": [
    "%%time\n",
    "\n",
    "query='''\n",
    "        select a.DayofMonth as Day, a.Month, a.Year, avg(a.DepDelay) as DepDelay\n",
    "        from ({}) a\n",
    "        group by a.DayofMonth, a.Month, a.Year\n",
    "        order by DepDelay desc \n",
    "        limit 10;\n",
    "\n",
    "'''.format(clean_query)\n",
    "\n",
    "\n",
    "from_sql(cursor, query)"
   ]
  },
  {
   "cell_type": "markdown",
   "metadata": {},
   "source": [
    "### 7. ¿Cual fue la fecha con el mayor retraso de llegada?"
   ]
  },
  {
   "cell_type": "code",
   "execution_count": null,
   "metadata": {},
   "outputs": [],
   "source": [
    "%%time\n",
    "\n",
    "query='''\n",
    "        select a.DayofMonth as Day, a.Month, a.Year, avg(a.ArrDelay) as ArrDelay\n",
    "        from ({}) a\n",
    "        group by a.DayofMonth, a.Month, a.Year\n",
    "        order by ArrDelay desc \n",
    "        limit 10;\n",
    "\n",
    "'''.format(clean_query)\n",
    "\n",
    "\n",
    "from_sql(cursor, query)"
   ]
  },
  {
   "cell_type": "markdown",
   "metadata": {},
   "source": [
    "### 8. ¿Cual fue el peor dia para volar desde NYC en 1997 si no te gustan los retrasos?"
   ]
  },
  {
   "cell_type": "code",
   "execution_count": null,
   "metadata": {},
   "outputs": [],
   "source": [
    "%%time\n",
    "\n",
    "query='''\n",
    "        select DayofMonth as Day, Month, Year, avg(DepDelay) as DepDelay\n",
    "        from _1997\n",
    "        group by DayofMonth, Month, Year\n",
    "        order by DepDelay desc \n",
    "        limit 10;\n",
    "\n",
    "'''\n",
    "\n",
    "\n",
    "from_sql(cursor, query)"
   ]
  },
  {
   "cell_type": "markdown",
   "metadata": {},
   "source": [
    "### 9. ¿Hay patrones estacionales en los retrasos de salida de los vuelos desde NYC?"
   ]
  },
  {
   "cell_type": "code",
   "execution_count": null,
   "metadata": {},
   "outputs": [],
   "source": [
    "%%time\n",
    "\n",
    "query='''\n",
    "        select Month, Year, avg(DepDelay) as DepDelay\n",
    "        from _1999\n",
    "        group by Month, Year;\n",
    "\n",
    "'''\n",
    "\n",
    "\n",
    "from_sql(cursor, query)"
   ]
  },
  {
   "cell_type": "code",
   "execution_count": null,
   "metadata": {},
   "outputs": [],
   "source": [
    "%%time\n",
    "%matplotlib inline\n",
    "\n",
    "query='''\n",
    "        select Month, Year, avg(DepDelay) as DepDelay\n",
    "        from _1999\n",
    "        group by Month, Year;\n",
    "\n",
    "'''\n",
    "\n",
    "\n",
    "from_sql(cursor, query).plot(x='Month', y='DepDelay');"
   ]
  },
  {
   "cell_type": "code",
   "execution_count": null,
   "metadata": {},
   "outputs": [],
   "source": [
    "%%time\n",
    "\n",
    "query='''\n",
    "        select a.Month, a.Year, avg(a.DepDelay) as DepDelay\n",
    "        from\n",
    "        ({}) a\n",
    "        group by a.Month, a.Year;\n",
    "\n",
    "'''.format(all_time_query)\n",
    "\n",
    "\n",
    "from_sql(cursor, query)"
   ]
  },
  {
   "cell_type": "markdown",
   "metadata": {},
   "source": [
    "### 10. De media, ¿como varian los retrasos de salida a lo largo del año?"
   ]
  },
  {
   "cell_type": "code",
   "execution_count": null,
   "metadata": {},
   "outputs": [],
   "source": [
    "%%time\n",
    "\n",
    "query='''\n",
    "        select Month, avg(DepTime) as AvgDepDelay\n",
    "        from _1999\n",
    "        group by Month;\n",
    "\n",
    "'''\n",
    "\n",
    "from_sql(cursor, query)"
   ]
  },
  {
   "cell_type": "markdown",
   "metadata": {},
   "source": [
    "### 11. ¿Cual fue el vuelo desde NYC mas rapido en la ultima decada?"
   ]
  },
  {
   "cell_type": "code",
   "execution_count": null,
   "metadata": {},
   "outputs": [],
   "source": [
    "%%time\n",
    "\n",
    "query='''\n",
    "        select a.DayofMonth, a.Month, a.Year, a.Distance/a.AirTime as Speed, a.UniqueCarrier as Airline, a.TailNum\n",
    "        from\n",
    "        ({}) a\n",
    "        where (a.Distance!='null') and (a.AirTime!='null')\n",
    "        order by Speed desc\n",
    "        limit 5;\n",
    "\n",
    "'''.format(all_time_query)\n",
    "\n",
    "\n",
    "from_sql(cursor, query)"
   ]
  },
  {
   "cell_type": "markdown",
   "metadata": {},
   "source": [
    "### 12. ¿Cuales son los vuelos diarios?¿A donde vuelan?  "
   ]
  },
  {
   "cell_type": "code",
   "execution_count": null,
   "metadata": {},
   "outputs": [],
   "source": [
    "%%time\n",
    "\n",
    "query='''\n",
    "        select UniqueCarrier as Airline, FlightNum, Dest, count(Dest) as Flights\n",
    "        from\n",
    "        _1999\n",
    "        group by UniqueCarrier, FlightNum, Dest\n",
    "        order by Flights desc\n",
    "        limit 10;\n",
    "\n",
    "'''\n",
    "\n",
    "\n",
    "from_sql(cursor, query)"
   ]
  },
  {
   "cell_type": "markdown",
   "metadata": {},
   "source": [
    "### 13. ¿Que aerolinea es la que mejor funciono y cual peor en 1999?"
   ]
  },
  {
   "cell_type": "code",
   "execution_count": null,
   "metadata": {},
   "outputs": [],
   "source": [
    "%%time\n",
    "\n",
    "query='''\n",
    "        select UniqueCarrier as Airline, avg(DepTime) as AvgDepDelay\n",
    "        from\n",
    "        _1999\n",
    "        group by Airline\n",
    "        order by AvgDepDelay asc;\n",
    "\n",
    "'''\n",
    "\n",
    "\n",
    "from_sql(cursor, query)"
   ]
  },
  {
   "cell_type": "code",
   "execution_count": null,
   "metadata": {},
   "outputs": [],
   "source": [
    "%%time\n",
    "\n",
    "query='''\n",
    "        select UniqueCarrier as Airline, avg(ArrTime) as AvgArrDelay\n",
    "        from\n",
    "        _1999\n",
    "        group by Airline\n",
    "        order by AvgArrDelay asc;\n",
    "\n",
    "'''\n",
    "\n",
    "\n",
    "from_sql(cursor, query)"
   ]
  },
  {
   "cell_type": "code",
   "execution_count": null,
   "metadata": {},
   "outputs": [],
   "source": [
    "%%time\n",
    "\n",
    "query='''\n",
    "        select a.UniqueCarrier as Airline, avg(a.DepTime) as AvgDepDelay\n",
    "        from\n",
    "        ({}) a\n",
    "        group by Airline\n",
    "        order by AvgDepDelay asc;\n",
    "\n",
    "'''.format(all_time_query)\n",
    "\n",
    "\n",
    "from_sql(cursor, query)"
   ]
  },
  {
   "cell_type": "code",
   "execution_count": null,
   "metadata": {},
   "outputs": [],
   "source": []
  }
 ],
 "metadata": {
  "kernelspec": {
   "display_name": "Python 3",
   "language": "python",
   "name": "python3"
  },
  "language_info": {
   "codemirror_mode": {
    "name": "ipython",
    "version": 3
   },
   "file_extension": ".py",
   "mimetype": "text/x-python",
   "name": "python",
   "nbconvert_exporter": "python",
   "pygments_lexer": "ipython3",
   "version": "3.7.6"
  }
 },
 "nbformat": 4,
 "nbformat_minor": 2
}
